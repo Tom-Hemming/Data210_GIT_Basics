{
 "cells": [
  {
   "cell_type": "code",
   "execution_count": 26,
   "metadata": {},
   "outputs": [
    {
     "name": "stdout",
     "output_type": "stream",
     "text": [
      "00 : 00 : 00\n",
      "00 : 30 : 00\n",
      "01 : 00 : 00\n",
      "01 : 30 : 00\n",
      "02 : 00 : 00\n",
      "02 : 30 : 00\n",
      "03 : 00 : 00\n",
      "03 : 30 : 00\n",
      "04 : 00 : 00\n",
      "04 : 30 : 00\n",
      "05 : 00 : 00\n",
      "05 : 30 : 00\n",
      "06 : 00 : 00\n",
      "06 : 30 : 00\n",
      "07 : 00 : 00\n",
      "07 : 30 : 00\n",
      "08 : 00 : 00\n",
      "08 : 30 : 00\n",
      "09 : 00 : 00\n",
      "09 : 30 : 00\n",
      "10 : 00 : 00\n",
      "10 : 30 : 00\n",
      "11 : 00 : 00\n",
      "11 : 30 : 00\n",
      "12 : 00 : 00\n",
      "12 : 30 : 00\n",
      "13 : 00 : 00\n",
      "13 : 30 : 00\n",
      "14 : 00 : 00\n",
      "14 : 30 : 00\n",
      "15 : 00 : 00\n",
      "15 : 30 : 00\n",
      "16 : 00 : 00\n",
      "16 : 30 : 00\n",
      "17 : 00 : 00\n",
      "17 : 30 : 00\n",
      "18 : 00 : 00\n",
      "18 : 30 : 00\n",
      "19 : 00 : 00\n",
      "19 : 30 : 00\n",
      "20 : 00 : 00\n",
      "20 : 30 : 00\n",
      "21 : 00 : 00\n",
      "21 : 30 : 00\n",
      "22 : 00 : 00\n",
      "22 : 30 : 00\n",
      "23 : 00 : 00\n",
      "00 : 00 : 00\n"
     ]
    }
   ],
   "source": [
    "import numpy as np\n",
    "time_hour=00\n",
    "time_minute=00\n",
    "time_second=00\n",
    "print(\"00 : 00 : 00\")\n",
    "while time_hour <23:\n",
    "    while time_minute <60:\n",
    "        while time_second < 60:\n",
    "            time_second +=1\n",
    "        else:\n",
    "            time_minute += 1\n",
    "            time_second = 0\n",
    "            if time_minute == 30:\n",
    "                print(\"%02d\"%(time_hour,),\":\",\"%02d\" % (time_minute,),\":\",\"%02d\" % (time_second,))\n",
    "\n",
    "    else:\n",
    "        time_hour+=1\n",
    "        time_minute=0\n",
    "        time_second=0\n",
    "        print(\"%02d\"%(time_hour,),\":\",\"%02d\" % (time_minute,),\":\",\"%02d\" % (time_second,))\n",
    "else:\n",
    "    print(\"00 : 00 : 00\")\n",
    "\n"
   ]
  },
  {
   "cell_type": "code",
   "execution_count": null,
   "metadata": {},
   "outputs": [],
   "source": []
  }
 ],
 "metadata": {
  "kernelspec": {
   "display_name": "base",
   "language": "python",
   "name": "python3"
  },
  "language_info": {
   "codemirror_mode": {
    "name": "ipython",
    "version": 3
   },
   "file_extension": ".py",
   "mimetype": "text/x-python",
   "name": "python",
   "nbconvert_exporter": "python",
   "pygments_lexer": "ipython3",
   "version": "3.9.12"
  },
  "orig_nbformat": 4,
  "vscode": {
   "interpreter": {
    "hash": "610a6f344c2137faf927ea819c63f6cee33a2c04455044b28099f39fe9722347"
   }
  }
 },
 "nbformat": 4,
 "nbformat_minor": 2
}
